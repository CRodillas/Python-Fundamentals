{
 "cells": [
  {
   "cell_type": "code",
   "execution_count": 48,
   "id": "c269a936",
   "metadata": {},
   "outputs": [
    {
     "name": "stdout",
     "output_type": "stream",
     "text": [
      "Enter the base: 456456\n",
      "Enter the exponent: 56\n",
      "456456.0^56 = inf\n",
      "Time taken:0.0010008811950683594 seconds\n"
     ]
    }
   ],
   "source": [
    "#number 1 iteration\n",
    "import time\n",
    "def iterative_exponent(base, exponent):\n",
    "    result = 1\n",
    "    while exponent > 0:\n",
    "        result *= base\n",
    "        exponent -= 1\n",
    "    return result\n",
    "\n",
    "# Get user input\n",
    "base = float(input(\"Enter the base: \"))\n",
    "exponent = int(input(\"Enter the exponent: \"))\n",
    "\n",
    "start_time = time.time()\n",
    "\n",
    "result = iterative_exponent(base, exponent)\n",
    "\n",
    "end_time = time.time()\n",
    "\n",
    "final_time = end_time - start_time\n",
    "\n",
    "\n",
    "print(str(base) +\"^\" +str(exponent) + \" = \" + str(result))\n",
    "print(\"Time taken:\"+ str(final_time)  +\" seconds\")\n",
    "\n",
    "#note: I tried an extremely high number because my PC can handle relatively lower number, thus not having any time taken"
   ]
  },
  {
   "cell_type": "code",
   "execution_count": 29,
   "id": "20fbf1c4",
   "metadata": {},
   "outputs": [
    {
     "name": "stdout",
     "output_type": "stream",
     "text": [
      "Enter the base: 456456\n",
      "Enter the exponent: 56\n",
      "456456.0^56 = inf\n",
      "Time taken:0.001001119613647461 seconds\n"
     ]
    }
   ],
   "source": [
    "#number 1 recursion\n",
    "import time\n",
    "def recursive_exponent(base, exponent):\n",
    "    if exponent == 0:\n",
    "        return 1\n",
    "    else:\n",
    "        return base * recursive_exponent(base, exponent - 1)\n",
    "\n",
    "base = float(input(\"Enter the base: \"))\n",
    "exponent = int(input(\"Enter the exponent: \"))\n",
    "\n",
    "result = recursive_exponent(base, exponent)\n",
    "\n",
    "print(str(base) +\"^\" +str(exponent) + \" = \" + str(result))\n",
    "\n",
    "start_time = time.time()\n",
    "\n",
    "\n",
    "result = recursive_exponent(base, exponent)\n",
    "\n",
    "\n",
    "end_time = time.time()\n",
    "\n",
    "final_time = end_time - start_time\n",
    "\n",
    "print(\"Time taken:\"+ str(final_time)  +\" seconds\")\n",
    "\n",
    "#note: I tried an extremely high number because my PC can handle relatively lower number, thus not having any time taken"
   ]
  },
  {
   "cell_type": "code",
   "execution_count": 52,
   "id": "9774839d",
   "metadata": {},
   "outputs": [
    {
     "name": "stdout",
     "output_type": "stream",
     "text": [
      "Answer for number 1: After many observations, I concluded that in this case, iteration tends to be the faster than recursion. This may be because in iteration, the function is called in less amount of time compared to recursion. In addition, the variables of base and exponent are returned less often in iteration. Lastly, the variable in the iteration only goes through one argument (the while loop), and in recursion, it satisfies both if and else.\n"
     ]
    }
   ],
   "source": [
    "print(\"Answer for number 1: After many observations, I concluded that in this case, iteration tends to be the faster than recursion. This may be because in iteration, the function is called in less amount of time compared to recursion. In addition, the variables of base and exponent are returned less often in iteration. Lastly, the variable in the iteration only goes through one argument (the while loop), and in recursion, it satisfies both if and else.\")\n"
   ]
  },
  {
   "cell_type": "code",
   "execution_count": 22,
   "id": "31675780",
   "metadata": {},
   "outputs": [
    {
     "name": "stdout",
     "output_type": "stream",
     "text": [
      "Enter a number: 676\n",
      "627057063764139831929324851379409869378845668175598843037877190478889006888518431438644711527536922839520331484815861906173161536477065546885468336421475511783984145060592245840032548652210559519683510271\n",
      "Render time: 0.0010008811950683594 seconds\n"
     ]
    }
   ],
   "source": [
    "#number 2 iteration\n",
    "#number 2 iteration\n",
    "import time\n",
    "\n",
    "def iterative_sum(n):\n",
    "    total = 0  \n",
    "    for m in range(n+1): \n",
    "        total += 2 ** m  \n",
    "    return total  \n",
    "\n",
    "n = int(input(\"Enter a number: \"))\n",
    "\n",
    "start_time = time.time() \n",
    "result = iterative_sum(n)\n",
    "end_time = time.time() \n",
    "\n",
    "render_time = end_time - start_time\n",
    "print(result)\n",
    "print(\"Render time: \" + str(render_time) + \" seconds\")\n",
    "\n",
    "#note: I tried an extremely high number because my PC can handle relatively lower number, thus not having any time taken\n",
    "\n",
    "#note: I tried an extremely high number because my PC can handle relatively lower number, thus not having any time taken"
   ]
  },
  {
   "cell_type": "code",
   "execution_count": 19,
   "id": "6d223554",
   "metadata": {},
   "outputs": [
    {
     "name": "stdout",
     "output_type": "stream",
     "text": [
      "Enter a number: 676\n",
      "627057063764139831929324851379409869378845668175598843037877190478889006888518431438644711527536922839520331484815861906173161536477065546885468336421475511783984145060592245840032548652210559519683510271\n",
      "Render time: 0.001001596450805664 seconds\n"
     ]
    }
   ],
   "source": [
    "#number 2 recursion\n",
    "import time\n",
    "\n",
    "def recursive_sum(n):\n",
    "    if n == 0:\n",
    "        return 1\n",
    "    \n",
    "    else:\n",
    "        return 2**n + recursive_sum(n-1)\n",
    "\n",
    "n = int(input(\"Enter a number: \"))\n",
    "\n",
    "start_time = time.time()\n",
    "result = recursive_sum(n)\n",
    "end_time = time.time()\n",
    "\n",
    "render_time = end_time - start_time\n",
    "print(result)\n",
    "print(\"Render time: \" + str(render_time) + \" seconds\")\n",
    "\n",
    "#note: I tried an extremely high number because my PC can handle relatively lower number, thus not having any time taken"
   ]
  },
  {
   "cell_type": "code",
   "execution_count": 53,
   "id": "6a18968e",
   "metadata": {},
   "outputs": [
    {
     "name": "stdout",
     "output_type": "stream",
     "text": [
      "Answer for number 2: On the same case as number 1, the iteration in number two tends to be faster than recursion. Although both iteration and recursion are considerabley fast in rendering an answer, on high value numbers, iteration renders faster. It could be explained by the loops used in iteration, as little to no additional memory allocation needed per loop. On the other hand, the system in recursion needs to allocate more memory to store in the arguments, the local variables, as well as in return values. In conclusion, even though both are generally acceptable in running different code structures, iteration function runs codes much more efficiently than recursion\n"
     ]
    }
   ],
   "source": [
    "print(\"Answer for number 2: On the same case as number 1, the iteration in number two tends to be faster than recursion. Although both iteration and recursion are considerabley fast in rendering an answer, on high value numbers, iteration renders faster. It could be explained by the loops used in iteration, as little to no additional memory allocation needed per loop. On the other hand, the system in recursion needs to allocate more memory to store in the arguments, the local variables, as well as in return values. In conclusion, even though both are generally acceptable in running different code structures, iteration function runs codes much more efficiently than recursion\")"
   ]
  },
  {
   "cell_type": "code",
   "execution_count": null,
   "id": "4adf8666",
   "metadata": {},
   "outputs": [],
   "source": []
  }
 ],
 "metadata": {
  "kernelspec": {
   "display_name": "Python 3 (ipykernel)",
   "language": "python",
   "name": "python3"
  },
  "language_info": {
   "codemirror_mode": {
    "name": "ipython",
    "version": 3
   },
   "file_extension": ".py",
   "mimetype": "text/x-python",
   "name": "python",
   "nbconvert_exporter": "python",
   "pygments_lexer": "ipython3",
   "version": "3.9.13"
  }
 },
 "nbformat": 4,
 "nbformat_minor": 5
}
