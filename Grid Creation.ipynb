{
 "cells": [
  {
   "cell_type": "code",
   "execution_count": 1,
   "id": "5ce24432",
   "metadata": {},
   "outputs": [],
   "source": [
    "def python_multiply(list):\n",
    "    \n",
    "    answer = 1\n",
    "    for number in list:\n",
    "        answer = number * answer\n",
    " \n",
    "    print('The product of all the numbers in the list is = ' + str(answer))"
   ]
  },
  {
   "cell_type": "code",
   "execution_count": 2,
   "id": "cebfe2e4",
   "metadata": {},
   "outputs": [
    {
     "name": "stdout",
     "output_type": "stream",
     "text": [
      "The product of all the numbers in the list is = -33600\n"
     ]
    }
   ],
   "source": [
    "list = [5, 6, -1, 2, 4, -2, -10, 7]\n",
    "\n",
    "python_multiply(list)"
   ]
  },
  {
   "cell_type": "code",
   "execution_count": 38,
   "id": "8badd314",
   "metadata": {},
   "outputs": [],
   "source": [
    "def print_four(times):\n",
    "    times()\n",
    "    times()\n",
    "    times()\n",
    "    times()\n",
    "    \n",
    "def python_hori():\n",
    "    for a in range(0,3):\n",
    "        print(\"+ - - - - \",end=\"\")\n",
    "        if a == 2:\n",
    "            print(\"+ - - - - +\")\n",
    "    \n",
    "def python_ver():\n",
    "    for b in range(0,4):\n",
    "        print(\"|         \",end=\"\")\n",
    "    if b== 3:\n",
    "        print(\"|         \")\n",
    "        \n",
    "def python_cell():\n",
    "    python_hori()\n",
    "    print_four(python_ver)\n",
    "    \n",
    "def python_grid():\n",
    "    print_four(python_cell)\n",
    "    python_hori()\n",
    "    "
   ]
  },
  {
   "cell_type": "code",
   "execution_count": 39,
   "id": "1206b261",
   "metadata": {},
   "outputs": [
    {
     "name": "stdout",
     "output_type": "stream",
     "text": [
      "+ - - - - + - - - - + - - - - + - - - - +\n",
      "|         |         |         |         |         \n",
      "|         |         |         |         |         \n",
      "|         |         |         |         |         \n",
      "|         |         |         |         |         \n",
      "+ - - - - + - - - - + - - - - + - - - - +\n",
      "|         |         |         |         |         \n",
      "|         |         |         |         |         \n",
      "|         |         |         |         |         \n",
      "|         |         |         |         |         \n",
      "+ - - - - + - - - - + - - - - + - - - - +\n",
      "|         |         |         |         |         \n",
      "|         |         |         |         |         \n",
      "|         |         |         |         |         \n",
      "|         |         |         |         |         \n",
      "+ - - - - + - - - - + - - - - + - - - - +\n",
      "|         |         |         |         |         \n",
      "|         |         |         |         |         \n",
      "|         |         |         |         |         \n",
      "|         |         |         |         |         \n",
      "+ - - - - + - - - - + - - - - + - - - - +\n"
     ]
    }
   ],
   "source": [
    "python_grid()"
   ]
  },
  {
   "cell_type": "code",
   "execution_count": null,
   "id": "0758f4d8",
   "metadata": {},
   "outputs": [],
   "source": []
  }
 ],
 "metadata": {
  "kernelspec": {
   "display_name": "Python 3 (ipykernel)",
   "language": "python",
   "name": "python3"
  },
  "language_info": {
   "codemirror_mode": {
    "name": "ipython",
    "version": 3
   },
   "file_extension": ".py",
   "mimetype": "text/x-python",
   "name": "python",
   "nbconvert_exporter": "python",
   "pygments_lexer": "ipython3",
   "version": "3.9.13"
  }
 },
 "nbformat": 4,
 "nbformat_minor": 5
}
