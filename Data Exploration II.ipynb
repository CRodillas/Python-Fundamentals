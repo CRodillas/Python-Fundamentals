{
 "cells": [
  {
   "cell_type": "code",
   "execution_count": null,
   "id": "ff54ba45",
   "metadata": {},
   "outputs": [],
   "source": [
    "import requests\n",
    "\n",
    "# URL of the raw dataset file on GitHub\n",
    "url = 'https://raw.githubusercontent.com/AllenDowney/ThinkPython2/master/code/words.txt'\n",
    "\n",
    "# Send a GET request to the URL\n",
    "response = requests.get(url)\n"
   ]
  },
  {
   "cell_type": "code",
   "execution_count": 9,
   "id": "8ade8bdb",
   "metadata": {},
   "outputs": [
    {
     "name": "stdout",
     "output_type": "stream",
     "text": [
      "Total number of words in the file: 113783\n"
     ]
    }
   ],
   "source": [
    "#1.A\n",
    "requests_file = \"words.txt\"\n",
    "word_total = 0\n",
    "\n",
    "with open (requests_file) as file:\n",
    "    for line in file:\n",
    "        words = line.split()\n",
    "        word_total = word_total + len(words)\n",
    "\n",
    "print(\"Total number of words in the file: \" + str(word_total) )"
   ]
  },
  {
   "cell_type": "code",
   "execution_count": 8,
   "id": "f7447e91",
   "metadata": {},
   "outputs": [
    {
     "name": "stdout",
     "output_type": "stream",
     "text": [
      "The longest words are: ['counterdemonstrations', 'hyperaggressivenesses', 'microminiaturizations']\n"
     ]
    }
   ],
   "source": [
    "#1.B\n",
    "requests_file = \"words.txt\"\n",
    "longest_words = []\n",
    "max_len = 0\n",
    "\n",
    "with open(requests_file) as file:\n",
    "    for line in file:\n",
    "        words = line.strip().split()\n",
    "        for word in words:\n",
    "            if len(word) > max_len:\n",
    "                max_len = len(word)\n",
    "                longest_words = [word]\n",
    "            elif len(word) == max_len:\n",
    "                longest_words.append(word)\n",
    "\n",
    "print(\"The longest words are:\", longest_words)"
   ]
  },
  {
   "cell_type": "code",
   "execution_count": 7,
   "id": "fe9d9dea",
   "metadata": {},
   "outputs": [
    {
     "name": "stdout",
     "output_type": "stream",
     "text": [
      "Input a letter: x\n",
      "82\n"
     ]
    }
   ],
   "source": [
    "#1.C\n",
    "requests_file = \"words.txt\"\n",
    "word = \" \"\n",
    "letter = input(\"Input a letter: \").lower()\n",
    "\n",
    "with open (requests_file) as file:\n",
    "    for word in file:\n",
    "        starting_letter = sum(word.lower().startswith(letter) for word in file)\n",
    "\n",
    "print(starting_letter)\n"
   ]
  },
  {
   "cell_type": "code",
   "execution_count": 5,
   "id": "cadf7adb",
   "metadata": {},
   "outputs": [
    {
     "name": "stdout",
     "output_type": "stream",
     "text": [
      "Input a substring: python\n",
      "python\n",
      "pythonic\n",
      "pythons\n"
     ]
    }
   ],
   "source": [
    "#1.D\n",
    "requests_file = \"words.txt\"\n",
    "substring = input(\"Input a substring: \")\n",
    "\n",
    "with open(requests_file) as file:\n",
    "    for word in file:\n",
    "        if substring in word:\n",
    "            print(word.strip())"
   ]
  },
  {
   "cell_type": "code",
   "execution_count": 3,
   "id": "1712e889",
   "metadata": {},
   "outputs": [
    {
     "name": "stdout",
     "output_type": "stream",
     "text": [
      "aa\n",
      "aba\n",
      "aga\n",
      "aha\n",
      "ala\n",
      "alula\n",
      "ama\n",
      "ana\n",
      "anna\n",
      "ava\n",
      "awa\n",
      "bib\n",
      "bob\n",
      "boob\n",
      "bub\n",
      "civic\n",
      "dad\n",
      "deed\n",
      "deified\n",
      "deked\n",
      "deled\n",
      "denned\n",
      "dewed\n",
      "did\n",
      "dud\n",
      "eke\n",
      "eme\n",
      "ere\n",
      "eve\n",
      "ewe\n",
      "eye\n",
      "gag\n",
      "gig\n",
      "hah\n",
      "halalah\n",
      "hallah\n",
      "huh\n",
      "kaiak\n",
      "kayak\n",
      "keek\n",
      "kook\n",
      "level\n",
      "madam\n",
      "marram\n",
      "mem\n",
      "mim\n",
      "minim\n",
      "mom\n",
      "mum\n",
      "noon\n",
      "nun\n",
      "oho\n",
      "otto\n",
      "pap\n",
      "peep\n",
      "pep\n",
      "pip\n",
      "poop\n",
      "pop\n",
      "pup\n",
      "radar\n",
      "redder\n",
      "refer\n",
      "reifier\n",
      "repaper\n",
      "reviver\n",
      "rotator\n",
      "rotor\n",
      "sagas\n",
      "sees\n",
      "selles\n",
      "sememes\n",
      "semes\n",
      "seres\n",
      "sexes\n",
      "shahs\n",
      "sis\n",
      "solos\n",
      "sos\n",
      "stets\n",
      "tat\n",
      "tenet\n",
      "terret\n",
      "tit\n",
      "toot\n",
      "tot\n",
      "tut\n",
      "vav\n",
      "waw\n",
      "wow\n",
      "yay\n"
     ]
    }
   ],
   "source": [
    "#1.E\n",
    "requests_file = \"words.txt\"\n",
    "\n",
    "with open(requests_file) as file:\n",
    "    for word in file:\n",
    "        if word.strip() == word.strip()[::-1]:\n",
    "            print(word.strip())"
   ]
  },
  {
   "cell_type": "code",
   "execution_count": 10,
   "id": "1e5d37a6",
   "metadata": {},
   "outputs": [
    {
     "name": "stdout",
     "output_type": "stream",
     "text": [
      "{'a': 68574, 'b': 17794, 'c': 34281, 'd': 34548, 'e': 106752, 'f': 12706, 'g': 27832, 'h': 20186, 'i': 77392, 'j': 1780, 'k': 9366, 'l': 47003, 'm': 24739, 'n': 60505, 'o': 54538, 'p': 25789, 'q': 1632, 'r': 64963, 's': 86526, 't': 57029, 'u': 31151, 'v': 9186, 'w': 8533, 'x': 2700, 'y': 13473, 'z': 3750}\n"
     ]
    }
   ],
   "source": [
    "#1.F\n",
    "requests_file = \"words.txt\"\n",
    "letter_frequency = {}\n",
    "\n",
    "with open(requests_file) as file:\n",
    "    for line in file:\n",
    "        for char in line:\n",
    "            if char.isalpha(): \n",
    "                char = char.lower()\n",
    "                if char in letter_frequency:\n",
    "                    letter_frequency[char] += 1\n",
    "                else:\n",
    "                    letter_frequency[char] = 1\n",
    "\n",
    "sorted_letter_frequency = {k: v for k, v in sorted(letter_frequency.items())}\n",
    "\n",
    "print(sorted_letter_frequency)"
   ]
  },
  {
   "cell_type": "code",
   "execution_count": 11,
   "id": "3d618dda",
   "metadata": {},
   "outputs": [
    {
     "name": "stdout",
     "output_type": "stream",
     "text": [
      "_ _ _ _ _\n",
      "Enter a letter: a\n",
      "Incorrect. You have 7 guesses remaining.\n",
      "_ _ _ _ _\n",
      "Enter a letter: e\n",
      "Correct!\n",
      "_ e e _ _\n",
      "Enter a letter: s\n",
      "Correct!\n",
      "_ e e _ s\n",
      "Enter a letter: f\n",
      "Correct!\n",
      "f e e _ s\n",
      "Enter a letter: l\n",
      "Incorrect. You have 6 guesses remaining.\n",
      "f e e _ s\n",
      "Enter a letter: t\n",
      "Incorrect. You have 5 guesses remaining.\n",
      "f e e _ s\n",
      "Enter a letter: d\n",
      "Correct!\n",
      "Congratulations, you guessed the word feeds!\n"
     ]
    }
   ],
   "source": [
    "#1.G\n",
    "import random\n",
    "\n",
    "def random_word():\n",
    "    with open('words.txt', 'r') as f:\n",
    "        words = f.read().split()\n",
    "    return random.choice(words)\n",
    "\n",
    "def show_word(word, guessed_letters):\n",
    "    displayed_word = [letter if letter in guessed_letters else '_' for letter in word]\n",
    "    print(\" \".join(displayed_word))\n",
    "    \n",
    "def guess_word():\n",
    "    while True:\n",
    "        guess = input('Enter a letter: ')\n",
    "        if len(guess) != 1:\n",
    "            print('Please enter a single letter.')\n",
    "        elif not guess.isalpha():\n",
    "            print('Please enter a letter.')\n",
    "        else:\n",
    "            return guess.lower()\n",
    "\n",
    "def guessing_game():\n",
    "    lives = 8\n",
    "    guessed_letters = set()  \n",
    "    word = random_word()\n",
    "    lives_used = 0\n",
    "    while lives_used < lives:\n",
    "        show_word(word, guessed_letters)\n",
    "        guess = guess_word()\n",
    "        if guess in guessed_letters:\n",
    "            print('You already guessed that letter.')\n",
    "        elif guess in word:\n",
    "            print('Correct!')\n",
    "            guessed_letters.add(guess)\n",
    "            if set(word).issubset(set(guessed_letters)):\n",
    "                print(\"Congratulations, you guessed the word \" + word + \"!\")\n",
    "                return\n",
    "        else:\n",
    "            lives_used += 1\n",
    "            print(\"Incorrect. You have \" + str(lives - lives_used) + \" guesses remaining.\")\n",
    "            guessed_letters.add(guess)\n",
    "    print(\"Sorry, you lose. The word was \" + word)\n",
    "\n",
    "guessing_game()"
   ]
  },
  {
   "cell_type": "code",
   "execution_count": 75,
   "id": "fe6a64ca",
   "metadata": {},
   "outputs": [
    {
     "name": "stdout",
     "output_type": "stream",
     "text": [
      "How many number of terms? 21\n",
      "10946\n",
      "Time taken: 0.0010006427764892578 seconds\n"
     ]
    }
   ],
   "source": [
    "#2 iteration: fibonacci sequence\n",
    "import time\n",
    "\n",
    "a = 0\n",
    "b = 1\n",
    "n = int(input(\"How many number of terms? \"))\n",
    "\n",
    "start_time = time.time()\n",
    "\n",
    "for i in range(n):\n",
    "    c = a + b\n",
    "    a = b\n",
    "    b = c\n",
    "\n",
    "end_time = time.time()\n",
    "\n",
    "final_time = end_time - start_time\n",
    "print(a)\n",
    "print(\"Time taken: \" + str(final_time) + \" seconds\")"
   ]
  },
  {
   "cell_type": "code",
   "execution_count": 59,
   "id": "79716bd6",
   "metadata": {},
   "outputs": [
    {
     "name": "stdout",
     "output_type": "stream",
     "text": [
      "How many number of terms? 21\n",
      "recursive approach: 10946\n",
      "Time taken: 0.003001689910888672 seconds\n"
     ]
    }
   ],
   "source": [
    "#2 recursion: fibonacci sequence\n",
    "import time\n",
    "\n",
    "def fibonacci(n):\n",
    "    if n <= 0:\n",
    "        print(\"Print a higher number than 0\")\n",
    "    elif n == 1 or n == 2:\n",
    "        return 1\n",
    "    else:\n",
    "        return fibonacci(n-1) + fibonacci(n-2)\n",
    "\n",
    "n = int(input(\"How many number of terms? \"))\n",
    "\n",
    "start_time = time.time()\n",
    "\n",
    "result = fibonacci(n)\n",
    "\n",
    "end_time = time.time()\n",
    "\n",
    "final_time = end_time - start_time\n",
    "\n",
    "print(\"recursive approach: \" + str(result))\n",
    "print(\"Time taken: \" + str(final_time) + \" seconds\")"
   ]
  },
  {
   "cell_type": "code",
   "execution_count": 1,
   "id": "3a90252f",
   "metadata": {},
   "outputs": [
    {
     "name": "stdout",
     "output_type": "stream",
     "text": [
      "As an observation for number 2, using iteration is considerably faster and more efficient than recursion since it does not need to be defined as a function. In addition, in iteration, the values only goes through only 1 argument which is the for loop, unlike in the recursion which is subject to if, elif, and else\n"
     ]
    }
   ],
   "source": [
    "#2. Observation\n",
    "print(\"As an observation for number 2, using iteration is considerably faster and more efficient than recursion since it does not need to be defined as a function. In addition, in iteration, the values only goes through only 1 argument which is the for loop, unlike in the \")"
   ]
  },
  {
   "cell_type": "code",
   "execution_count": 12,
   "id": "5b88860f",
   "metadata": {},
   "outputs": [
    {
     "name": "stdout",
     "output_type": "stream",
     "text": [
      "x at 1 = 2.154\n",
      "x at 2 = 2.097\n",
      "x at 3 = 2.119\n",
      "x at 4 = 2.111\n",
      "x at 5 = 2.114\n",
      "x at 6 = 2.113\n",
      "x at 7 = 2.113\n",
      "The solution is x = 2.113\n"
     ]
    }
   ],
   "source": [
    "#3\n",
    "def find_solution():\n",
    "    x = 2\n",
    "    x_minus1 = 0\n",
    "    while abs(x - x_minus1) > 0.001:\n",
    "        for i in range(1,8):\n",
    "            x_minus1 = x\n",
    "            x = (20 - 5 * x)** (1 / 3)\n",
    "            print(\"x at \" + str(i) + \" = \" + str(round(x,3)))\n",
    "        return x\n",
    "\n",
    "solution = find_solution()\n",
    "print(f\"The solution is x = \" + str(round(solution,3)))"
   ]
  }
 ],
 "metadata": {
  "kernelspec": {
   "display_name": "Python 3 (ipykernel)",
   "language": "python",
   "name": "python3"
  },
  "language_info": {
   "codemirror_mode": {
    "name": "ipython",
    "version": 3
   },
   "file_extension": ".py",
   "mimetype": "text/x-python",
   "name": "python",
   "nbconvert_exporter": "python",
   "pygments_lexer": "ipython3",
   "version": "3.9.13"
  }
 },
 "nbformat": 4,
 "nbformat_minor": 5
}
