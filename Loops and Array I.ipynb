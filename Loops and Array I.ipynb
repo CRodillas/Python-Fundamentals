{
 "cells": [
  {
   "cell_type": "code",
   "execution_count": 7,
   "id": "972e5ec2",
   "metadata": {},
   "outputs": [
    {
     "name": "stdout",
     "output_type": "stream",
     "text": [
      "What is the score of quiz 1? 20\n",
      "What is the score of quiz 2? 19\n",
      "What is the score of quiz 3? 20\n",
      "What is the score of quiz 4? 17\n",
      "What is the score of quiz 5? 15\n",
      "The average score of quizzes is 18.2\n",
      "The percent score is 91%\n"
     ]
    }
   ],
   "source": [
    "#20 points per quiz / Total:100\n",
    "num_quizzes = 5\n",
    "quiz_scores = []\n",
    "\n",
    "for i in range(num_quizzes):\n",
    "    score1 = int(input(f\"What is the score of quiz {i + 1}? \"))\n",
    "    quiz_scores.append(score1)\n",
    "\n",
    "total_quiz = sum(quiz_scores)\n",
    "AQ = total_quiz / num_quizzes\n",
    "PQ = total_quiz\n",
    "\n",
    "print(f\"The average score of quizzes is {AQ}\")\n",
    "print(f\"The percent score is {PQ}%\")"
   ]
  },
  {
   "cell_type": "code",
   "execution_count": 4,
   "id": "dd9b95a6",
   "metadata": {},
   "outputs": [
    {
     "name": "stdout",
     "output_type": "stream",
     "text": [
      "What is the score of assignment 1? 10\n",
      "What is the score of assignment 2? 9\n",
      "What is the score of seatwork 1? 10\n",
      "What is the score of seatwork 2? 9\n",
      "The average score of quizzes is 9.5\n",
      "The percent score is 95.0%\n"
     ]
    }
   ],
   "source": [
    "#10 points per activity / Total: 40\n",
    "num_assign = 2 \n",
    "assign_scores = []\n",
    "\n",
    "for i in range(num_assign):\n",
    "    score2 = int(input(f\"What is the score of assignment {i +1}? \"))\n",
    "    assign_scores.append(score2)\n",
    "    \n",
    "num_seatwork = 2\n",
    "seatwork_scores = []\n",
    "\n",
    "for i in range(num_seatwork):\n",
    "    score3 = int(input(f\"What is the score of seatwork {i +1}? \"))\n",
    "    seatwork_scores.append(score3)\n",
    "    \n",
    "total_activities = sum(assign_scores) + sum(seatwork_scores)\n",
    "CS = total_activities / (num_assign + num_seatwork)\n",
    "PCS = total_activities *2.5\n",
    "\n",
    "print(f\"The average score of quizzes is {CS}\")\n",
    "print(f\"The percent score is {PCS}%\")"
   ]
  },
  {
   "cell_type": "code",
   "execution_count": 14,
   "id": "74be25cd",
   "metadata": {},
   "outputs": [
    {
     "name": "stdout",
     "output_type": "stream",
     "text": [
      "What is the score of major exam? 97\n",
      "The percent score is 97%\n"
     ]
    }
   ],
   "source": [
    "#out of 100 \n",
    "M1 = int(input(\"What is the score of major exam? \"))\n",
    "print(f\"The percent score is {M1}%\")"
   ]
  },
  {
   "cell_type": "code",
   "execution_count": 12,
   "id": "5d44b2da",
   "metadata": {},
   "outputs": [
    {
     "name": "stdout",
     "output_type": "stream",
     "text": [
      "final grade = 94.4\n"
     ]
    }
   ],
   "source": [
    "Grade = (M1*.50) + (PQ*.40) + (PCS*.10)\n",
    "\n",
    "print(f\"final grade = {Grade}\")"
   ]
  }
 ],
 "metadata": {
  "kernelspec": {
   "display_name": "Python 3 (ipykernel)",
   "language": "python",
   "name": "python3"
  },
  "language_info": {
   "codemirror_mode": {
    "name": "ipython",
    "version": 3
   },
   "file_extension": ".py",
   "mimetype": "text/x-python",
   "name": "python",
   "nbconvert_exporter": "python",
   "pygments_lexer": "ipython3",
   "version": "3.9.13"
  }
 },
 "nbformat": 4,
 "nbformat_minor": 5
}
